{
  "nbformat": 4,
  "nbformat_minor": 0,
  "metadata": {
    "colab": {
      "provenance": []
    },
    "kernelspec": {
      "name": "python3",
      "display_name": "Python 3"
    },
    "language_info": {
      "name": "python"
    }
  },
  "cells": [
    {
      "cell_type": "code",
      "execution_count": null,
      "metadata": {
        "colab": {
          "base_uri": "https://localhost:8080/"
        },
        "id": "kQTM2tbyWTMU",
        "outputId": "487a7b78-cbce-4c61-ab1a-f275ed0de4bc"
      },
      "outputs": [
        {
          "output_type": "stream",
          "name": "stdout",
          "text": [
            "Collecting jobspy\n",
            "  Downloading jobspy-0.29.0.tar.gz (21 kB)\n",
            "  Preparing metadata (setup.py) ... \u001b[?25l\u001b[?25hdone\n",
            "Collecting redis>=3.0.0 (from jobspy)\n",
            "  Downloading redis-5.2.0-py3-none-any.whl.metadata (9.1 kB)\n",
            "Requirement already satisfied: async-timeout>=4.0.3 in /usr/local/lib/python3.10/dist-packages (from redis>=3.0.0->jobspy) (4.0.3)\n",
            "Downloading redis-5.2.0-py3-none-any.whl (261 kB)\n",
            "\u001b[2K   \u001b[90m━━━━━━━━━━━━━━━━━━━━━━━━━━━━━━━━━━━━━━━━\u001b[0m \u001b[32m261.4/261.4 kB\u001b[0m \u001b[31m18.6 MB/s\u001b[0m eta \u001b[36m0:00:00\u001b[0m\n",
            "\u001b[?25hBuilding wheels for collected packages: jobspy\n",
            "  Building wheel for jobspy (setup.py) ... \u001b[?25l\u001b[?25hdone\n",
            "  Created wheel for jobspy: filename=jobspy-0.29.0-py3-none-any.whl size=20629 sha256=a77841383253e0f1da22afc47a0c321fd13954da4d77bdeb68c8306ebcbb6edd\n",
            "  Stored in directory: /root/.cache/pip/wheels/aa/e1/c1/d2e59c02f367f97eb59c90ed9a0fcd29954cf59157ebd5775a\n",
            "Successfully built jobspy\n",
            "Installing collected packages: redis, jobspy\n",
            "Successfully installed jobspy-0.29.0 redis-5.2.0\n"
          ]
        }
      ],
      "source": []
    },
    {
      "cell_type": "code",
      "source": [
        "# Step 1: Install the jobspy package\n",
        "!pip install jobspy\n",
        "\n",
        "# Step 2: Import the necessary libraries\n",
        "from jobspy import scrape_jobs\n",
        "import pandas as pd\n",
        "\n",
        "# Step 3: Define job roles\n",
        "job_roles = [\n",
        "    \"graphic designer\", \"content creator\", \"logo designer\", \"social media manager\"\n",
        "]\n",
        "\n",
        "# Initialize a list to collect all job listings\n",
        "all_job_listings = []\n",
        "\n",
        "# Step 4: Iterate over each job role and fetch listings\n",
        "for role in job_roles:\n",
        "    job_listings = scrape_jobs(\n",
        "        site_type=['linkedin', 'glassdoor', 'indeed'],\n",
        "        search_term=role,\n",
        "        location=\"United Kingdom\",\n",
        "        job_type='fulltime',\n",
        "        linkedin_fetch_description=True,\n",
        "        results_wanted=10\n",
        "    )\n",
        "\n",
        "    # Check if the job_listings DataFrame is valid and not empty\n",
        "    if isinstance(job_listings, pd.DataFrame) and not job_listings.empty:\n",
        "        # Filter and rename columns to match the required fields\n",
        "        if 'description' in job_listings.columns:\n",
        "            df = job_listings[[\n",
        "                'job_url', 'company', 'title', 'job_type', 'logo_photo_url', 'company_url',\n",
        "                'location', 'is_remote', 'job_level', 'description'\n",
        "            ]]\n",
        "            df = df.rename(columns={'job_url': 'job_url_direct'})\n",
        "\n",
        "            # Add the filtered listings to the main list\n",
        "            all_job_listings.extend(df.to_dict(orient='records'))\n",
        "\n",
        "# Convert the combined listings to JSON format with indentation for readability\n",
        "jobs_json = pd.DataFrame(all_job_listings).to_json(orient='records', indent=4)\n",
        "print(jobs_json)\n"
      ],
      "metadata": {
        "colab": {
          "base_uri": "https://localhost:8080/",
          "height": 454
        },
        "id": "Yt7a6FWuWbCd",
        "outputId": "1acac9c9-88cc-4d98-9f51-56738845a472"
      },
      "execution_count": null,
      "outputs": [
        {
          "output_type": "stream",
          "name": "stdout",
          "text": [
            "Requirement already satisfied: jobspy in /usr/local/lib/python3.10/dist-packages (0.29.0)\n",
            "Requirement already satisfied: redis>=3.0.0 in /usr/local/lib/python3.10/dist-packages (from jobspy) (5.2.0)\n",
            "Requirement already satisfied: async-timeout>=4.0.3 in /usr/local/lib/python3.10/dist-packages (from redis>=3.0.0->jobspy) (4.0.3)\n"
          ]
        },
        {
          "output_type": "error",
          "ename": "ModuleNotFoundError",
          "evalue": "No module named 'jobspy'",
          "traceback": [
            "\u001b[0;31m---------------------------------------------------------------------------\u001b[0m",
            "\u001b[0;31mModuleNotFoundError\u001b[0m                       Traceback (most recent call last)",
            "\u001b[0;32m<ipython-input-4-5e6c0b6ddda9>\u001b[0m in \u001b[0;36m<cell line: 5>\u001b[0;34m()\u001b[0m\n\u001b[1;32m      3\u001b[0m \u001b[0;34m\u001b[0m\u001b[0m\n\u001b[1;32m      4\u001b[0m \u001b[0;31m# Step 2: Import the necessary libraries\u001b[0m\u001b[0;34m\u001b[0m\u001b[0;34m\u001b[0m\u001b[0m\n\u001b[0;32m----> 5\u001b[0;31m \u001b[0;32mfrom\u001b[0m \u001b[0mjobspy\u001b[0m \u001b[0;32mimport\u001b[0m \u001b[0mscrape_jobs\u001b[0m\u001b[0;34m\u001b[0m\u001b[0;34m\u001b[0m\u001b[0m\n\u001b[0m\u001b[1;32m      6\u001b[0m \u001b[0;32mimport\u001b[0m \u001b[0mpandas\u001b[0m \u001b[0;32mas\u001b[0m \u001b[0mpd\u001b[0m\u001b[0;34m\u001b[0m\u001b[0;34m\u001b[0m\u001b[0m\n\u001b[1;32m      7\u001b[0m \u001b[0;34m\u001b[0m\u001b[0m\n",
            "\u001b[0;31mModuleNotFoundError\u001b[0m: No module named 'jobspy'",
            "",
            "\u001b[0;31m---------------------------------------------------------------------------\u001b[0;32m\nNOTE: If your import is failing due to a missing package, you can\nmanually install dependencies using either !pip or !apt.\n\nTo view examples of installing some common dependencies, click the\n\"Open Examples\" button below.\n\u001b[0;31m---------------------------------------------------------------------------\u001b[0m\n"
          ],
          "errorDetails": {
            "actions": [
              {
                "action": "open_url",
                "actionText": "Open Examples",
                "url": "/notebooks/snippets/importing_libraries.ipynb"
              }
            ]
          }
        }
      ]
    },
    {
      "cell_type": "code",
      "source": [],
      "metadata": {
        "id": "Lc3pEL8VWhxT"
      },
      "execution_count": null,
      "outputs": []
    }
  ]
}